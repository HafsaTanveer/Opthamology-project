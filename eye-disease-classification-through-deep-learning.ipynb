{
 "cells": [
  {
   "cell_type": "code",
   "execution_count": 1,
   "metadata": {
    "_cell_guid": "b1076dfc-b9ad-4769-8c92-a6c4dae69d19",
    "_uuid": "8f2839f25d086af736a60e9eeb907d3b93b6e0e5"
   },
   "outputs": [],
   "source": [
    "# This Python 3 environment comes with many helpful analytics libraries installed\n",
    "# It is defined by the kaggle/python docker image: https://github.com/kaggle/docker-python\n",
    "# For example, here's several helpful packages to load in \n",
    "\n",
    "import numpy as np # linear algebra\n",
    "import pandas as pd # data processing, CSV file I/O (e.g. pd.read_csv)\n",
    "\n",
    "# Input data files are available in the \"../input/\" directory.\n",
    "# For example, running this (by clicking run or pressing Shift+Enter) will list all files under the input directory\n",
    "\n",
    "import os\n",
    "# for dirname, _, filenames in os.walk('/kaggle/input'):\n",
    "#     for filename in filenames:\n",
    "#         print(os.path.join(dirname, filename))\n",
    "\n",
    "# Any results you write to the current directory are saved as output."
   ]
  },
  {
   "cell_type": "markdown",
   "metadata": {},
   "source": [
    "Hi everyone,\n",
    "\n",
    "Here i have used Tensorflow keras CNN model in this kernal to predict 5 class label in dataset for eye disease classification."
   ]
  },
  {
   "cell_type": "markdown",
   "metadata": {},
   "source": [
    "First of all import all the necessary libraries "
   ]
  },
  {
   "cell_type": "code",
   "execution_count": 2,
   "metadata": {
    "_cell_guid": "79c7e3d0-c299-4dcb-8224-4455121ee9b0",
    "_uuid": "d629ff2d2480ee46fbb7e2d37f6b5fab8052498a"
   },
   "outputs": [
    {
     "name": "stderr",
     "output_type": "stream",
     "text": [
      "Using TensorFlow backend.\n"
     ]
    }
   ],
   "source": [
    "import matplotlib.pyplot as plt\n",
    "from sklearn.preprocessing import LabelEncoder\n",
    "import cv2\n",
    "from sklearn.model_selection import train_test_split\n",
    "from sklearn.utils import shuffle\n",
    "\n",
    "from tensorflow.keras.models import Sequential\n",
    "from tensorflow.keras.layers import Dense,Dropout,Flatten\n",
    "from tensorflow.keras.layers import Conv2D,MaxPool2D\n",
    "from tensorflow.keras.layers import Input, Dense\n",
    "from keras.utils import to_categorical\n",
    "from tensorflow.keras.models import Model\n",
    "from tensorflow.keras.preprocessing.image import ImageDataGenerator\n",
    "from sklearn.metrics import confusion_matrix\n",
    "import matplotlib.pyplot as plt\n",
    "\n",
    "from tensorflow.keras.applications.vgg16 import VGG16\n",
    "import pandas as pd\n",
    "import numpy as np\n",
    "import os\n",
    "from numpy import argmax\n"
   ]
  },
  {
   "cell_type": "markdown",
   "metadata": {},
   "source": [
    "Now here read all the directories available in eye disease folder"
   ]
  },
  {
   "cell_type": "code",
   "execution_count": 3,
   "metadata": {},
   "outputs": [
    {
     "data": {
      "text/plain": [
       "['Bulging_Eyes', 'Crossed_Eyes', 'Glaucoma', 'Cataracts', 'Uveitis']"
      ]
     },
     "execution_count": 3,
     "metadata": {},
     "output_type": "execute_result"
    }
   ],
   "source": [
    "PATH = \"/kaggle/input/eye-disease-dataset/Eye_diseases\"\n",
    "data_dir_list = os.listdir(PATH)\n",
    "data_dir_list"
   ]
  },
  {
   "cell_type": "markdown",
   "metadata": {},
   "source": [
    "Now here we'll prepare data to feed into the model. first read all the images from the dataset and resize it with specific size and prepare all the image data list for multiple folder with  target column."
   ]
  },
  {
   "cell_type": "code",
   "execution_count": 4,
   "metadata": {},
   "outputs": [
    {
     "name": "stdout",
     "output_type": "stream",
     "text": [
      "Getting image from Bulging_Eyes folder\n",
      "Getting image from Crossed_Eyes folder\n",
      "Getting image from Glaucoma folder\n",
      "Getting image from Cataracts folder\n",
      "Getting image from Uveitis folder\n"
     ]
    }
   ],
   "source": [
    "img_rows=224\n",
    "img_cols=224\n",
    "num_channel=3\n",
    "\n",
    "num_epoch = 50\n",
    "batch_size = 32\n",
    "\n",
    "img_data_list=[]\n",
    "classes_names_list=[]\n",
    "target_column=[]\n",
    "for dataset in data_dir_list:\n",
    "    classes_names_list.append(dataset)\n",
    "    print(\"Getting image from {} folder\".format(dataset))\n",
    "    img_list= os.listdir(PATH +\"/\"+ dataset)\n",
    "    for img in img_list:\n",
    "        input_img = cv2.imread(PATH +\"/\"+dataset+\"/\"+img)\n",
    "        input_img_resize=cv2.resize(input_img,(img_rows,img_cols))\n",
    "        img_data_list.append(input_img_resize)\n",
    "        target_column.append(dataset)"
   ]
  },
  {
   "cell_type": "code",
   "execution_count": 5,
   "metadata": {},
   "outputs": [
    {
     "name": "stdout",
     "output_type": "stream",
     "text": [
      "num_classes 5\n",
      "Shape of image data (383, 224, 224, 3)\n",
      "number of samples 383\n",
      "target column before encoding ['Bulging_Eyes', 'Bulging_Eyes', 'Bulging_Eyes', 'Bulging_Eyes', 'Bulging_Eyes', 'Bulging_Eyes', 'Bulging_Eyes', 'Bulging_Eyes', 'Bulging_Eyes', 'Bulging_Eyes', 'Bulging_Eyes', 'Bulging_Eyes', 'Bulging_Eyes', 'Bulging_Eyes', 'Bulging_Eyes', 'Bulging_Eyes', 'Bulging_Eyes', 'Bulging_Eyes', 'Bulging_Eyes', 'Bulging_Eyes', 'Bulging_Eyes', 'Bulging_Eyes', 'Bulging_Eyes', 'Bulging_Eyes', 'Bulging_Eyes', 'Bulging_Eyes', 'Bulging_Eyes', 'Bulging_Eyes', 'Bulging_Eyes', 'Bulging_Eyes', 'Crossed_Eyes', 'Crossed_Eyes', 'Crossed_Eyes', 'Crossed_Eyes', 'Crossed_Eyes', 'Crossed_Eyes', 'Crossed_Eyes', 'Crossed_Eyes', 'Crossed_Eyes', 'Crossed_Eyes', 'Crossed_Eyes', 'Crossed_Eyes', 'Crossed_Eyes', 'Crossed_Eyes', 'Crossed_Eyes', 'Crossed_Eyes', 'Crossed_Eyes', 'Crossed_Eyes', 'Crossed_Eyes', 'Crossed_Eyes', 'Crossed_Eyes', 'Crossed_Eyes', 'Crossed_Eyes', 'Crossed_Eyes', 'Crossed_Eyes', 'Crossed_Eyes', 'Crossed_Eyes', 'Crossed_Eyes', 'Crossed_Eyes', 'Crossed_Eyes', 'Crossed_Eyes', 'Crossed_Eyes', 'Crossed_Eyes', 'Crossed_Eyes', 'Crossed_Eyes', 'Crossed_Eyes', 'Crossed_Eyes', 'Crossed_Eyes', 'Crossed_Eyes', 'Crossed_Eyes', 'Crossed_Eyes', 'Crossed_Eyes', 'Crossed_Eyes', 'Crossed_Eyes', 'Crossed_Eyes', 'Crossed_Eyes', 'Crossed_Eyes', 'Crossed_Eyes', 'Crossed_Eyes', 'Crossed_Eyes', 'Crossed_Eyes', 'Crossed_Eyes', 'Crossed_Eyes', 'Crossed_Eyes', 'Crossed_Eyes', 'Crossed_Eyes', 'Crossed_Eyes', 'Crossed_Eyes', 'Crossed_Eyes', 'Crossed_Eyes', 'Crossed_Eyes', 'Crossed_Eyes', 'Crossed_Eyes', 'Crossed_Eyes', 'Crossed_Eyes', 'Crossed_Eyes', 'Crossed_Eyes', 'Crossed_Eyes', 'Crossed_Eyes', 'Crossed_Eyes', 'Crossed_Eyes', 'Crossed_Eyes', 'Crossed_Eyes', 'Crossed_Eyes', 'Crossed_Eyes', 'Crossed_Eyes', 'Crossed_Eyes', 'Crossed_Eyes', 'Crossed_Eyes', 'Crossed_Eyes', 'Crossed_Eyes', 'Crossed_Eyes', 'Crossed_Eyes', 'Crossed_Eyes', 'Crossed_Eyes', 'Crossed_Eyes', 'Crossed_Eyes', 'Crossed_Eyes', 'Crossed_Eyes', 'Crossed_Eyes', 'Crossed_Eyes', 'Crossed_Eyes', 'Crossed_Eyes', 'Crossed_Eyes', 'Crossed_Eyes', 'Crossed_Eyes', 'Crossed_Eyes', 'Crossed_Eyes', 'Crossed_Eyes', 'Crossed_Eyes', 'Crossed_Eyes', 'Crossed_Eyes', 'Crossed_Eyes', 'Crossed_Eyes', 'Crossed_Eyes', 'Crossed_Eyes', 'Crossed_Eyes', 'Crossed_Eyes', 'Crossed_Eyes', 'Crossed_Eyes', 'Crossed_Eyes', 'Crossed_Eyes', 'Crossed_Eyes', 'Crossed_Eyes', 'Crossed_Eyes', 'Crossed_Eyes', 'Crossed_Eyes', 'Crossed_Eyes', 'Crossed_Eyes', 'Crossed_Eyes', 'Crossed_Eyes', 'Crossed_Eyes', 'Crossed_Eyes', 'Crossed_Eyes', 'Crossed_Eyes', 'Crossed_Eyes', 'Crossed_Eyes', 'Crossed_Eyes', 'Crossed_Eyes', 'Crossed_Eyes', 'Crossed_Eyes', 'Crossed_Eyes', 'Crossed_Eyes', 'Crossed_Eyes', 'Crossed_Eyes', 'Crossed_Eyes', 'Crossed_Eyes', 'Crossed_Eyes', 'Crossed_Eyes', 'Crossed_Eyes', 'Crossed_Eyes', 'Crossed_Eyes', 'Crossed_Eyes', 'Crossed_Eyes', 'Crossed_Eyes', 'Crossed_Eyes', 'Crossed_Eyes', 'Crossed_Eyes', 'Crossed_Eyes', 'Crossed_Eyes', 'Crossed_Eyes', 'Crossed_Eyes', 'Crossed_Eyes', 'Crossed_Eyes', 'Crossed_Eyes', 'Crossed_Eyes', 'Crossed_Eyes', 'Crossed_Eyes', 'Crossed_Eyes', 'Crossed_Eyes', 'Crossed_Eyes', 'Crossed_Eyes', 'Crossed_Eyes', 'Crossed_Eyes', 'Crossed_Eyes', 'Crossed_Eyes', 'Crossed_Eyes', 'Crossed_Eyes', 'Crossed_Eyes', 'Crossed_Eyes', 'Crossed_Eyes', 'Crossed_Eyes', 'Crossed_Eyes', 'Crossed_Eyes', 'Glaucoma', 'Glaucoma', 'Glaucoma', 'Glaucoma', 'Glaucoma', 'Glaucoma', 'Glaucoma', 'Glaucoma', 'Glaucoma', 'Glaucoma', 'Glaucoma', 'Glaucoma', 'Glaucoma', 'Glaucoma', 'Glaucoma', 'Glaucoma', 'Glaucoma', 'Glaucoma', 'Glaucoma', 'Glaucoma', 'Glaucoma', 'Glaucoma', 'Glaucoma', 'Glaucoma', 'Glaucoma', 'Glaucoma', 'Glaucoma', 'Glaucoma', 'Glaucoma', 'Glaucoma', 'Glaucoma', 'Glaucoma', 'Glaucoma', 'Glaucoma', 'Glaucoma', 'Glaucoma', 'Glaucoma', 'Glaucoma', 'Glaucoma', 'Glaucoma', 'Glaucoma', 'Glaucoma', 'Glaucoma', 'Glaucoma', 'Glaucoma', 'Glaucoma', 'Glaucoma', 'Glaucoma', 'Glaucoma', 'Glaucoma', 'Glaucoma', 'Glaucoma', 'Glaucoma', 'Glaucoma', 'Glaucoma', 'Glaucoma', 'Glaucoma', 'Glaucoma', 'Glaucoma', 'Glaucoma', 'Glaucoma', 'Glaucoma', 'Glaucoma', 'Glaucoma', 'Glaucoma', 'Glaucoma', 'Glaucoma', 'Glaucoma', 'Glaucoma', 'Glaucoma', 'Glaucoma', 'Glaucoma', 'Glaucoma', 'Glaucoma', 'Glaucoma', 'Glaucoma', 'Glaucoma', 'Glaucoma', 'Glaucoma', 'Glaucoma', 'Glaucoma', 'Glaucoma', 'Cataracts', 'Cataracts', 'Cataracts', 'Cataracts', 'Cataracts', 'Cataracts', 'Cataracts', 'Cataracts', 'Cataracts', 'Cataracts', 'Cataracts', 'Cataracts', 'Cataracts', 'Cataracts', 'Cataracts', 'Cataracts', 'Cataracts', 'Cataracts', 'Cataracts', 'Cataracts', 'Cataracts', 'Cataracts', 'Cataracts', 'Cataracts', 'Cataracts', 'Cataracts', 'Cataracts', 'Cataracts', 'Cataracts', 'Cataracts', 'Cataracts', 'Cataracts', 'Cataracts', 'Cataracts', 'Cataracts', 'Cataracts', 'Cataracts', 'Cataracts', 'Cataracts', 'Cataracts', 'Cataracts', 'Cataracts', 'Cataracts', 'Cataracts', 'Cataracts', 'Cataracts', 'Cataracts', 'Uveitis', 'Uveitis', 'Uveitis', 'Uveitis', 'Uveitis', 'Uveitis', 'Uveitis', 'Uveitis', 'Uveitis', 'Uveitis', 'Uveitis', 'Uveitis', 'Uveitis', 'Uveitis', 'Uveitis', 'Uveitis', 'Uveitis', 'Uveitis', 'Uveitis', 'Uveitis', 'Uveitis', 'Uveitis', 'Uveitis', 'Uveitis', 'Uveitis', 'Uveitis', 'Uveitis', 'Uveitis', 'Uveitis', 'Uveitis', 'Uveitis', 'Uveitis', 'Uveitis', 'Uveitis', 'Uveitis', 'Uveitis', 'Uveitis', 'Uveitis', 'Uveitis', 'Uveitis', 'Uveitis', 'Uveitis', 'Uveitis', 'Uveitis', 'Uveitis', 'Uveitis', 'Uveitis', 'Uveitis', 'Uveitis', 'Uveitis']\n"
     ]
    }
   ],
   "source": [
    "num_classes = len(classes_names_list)\n",
    "print(\"num_classes\",num_classes)\n",
    "img_data = np.array(img_data_list) # convert images in numpy array \n",
    "img_data = img_data.astype('float32')\n",
    "img_data /= 255\n",
    "print(\"Shape of image data\",img_data.shape)\n",
    "num_of_samples = img_data.shape[0]\n",
    "input_shape = img_data[0].shape \n",
    "print(\"number of samples\",num_of_samples)\n",
    "print(\"target column before encoding\",target_column)"
   ]
  },
  {
   "cell_type": "markdown",
   "metadata": {},
   "source": [
    "Here encode the target column becuase we can't use string in model. so here we are using label encoder to encode target column."
   ]
  },
  {
   "cell_type": "code",
   "execution_count": 6,
   "metadata": {},
   "outputs": [
    {
     "data": {
      "text/plain": [
       "array([0, 1, 2, 3, 4])"
      ]
     },
     "execution_count": 6,
     "metadata": {},
     "output_type": "execute_result"
    }
   ],
   "source": [
    "Labelencoder = LabelEncoder()\n",
    "target_column = Labelencoder.fit_transform(target_column)\n",
    "np.unique(target_column)"
   ]
  },
  {
   "cell_type": "markdown",
   "metadata": {},
   "source": [
    "Now check the target column value after the encoding"
   ]
  },
  {
   "cell_type": "code",
   "execution_count": 7,
   "metadata": {},
   "outputs": [
    {
     "data": {
      "text/plain": [
       "array([0, 0, 0, 0, 0, 0, 0, 0, 0, 0, 0, 0, 0, 0, 0, 0, 0, 0, 0, 0, 0, 0,\n",
       "       0, 0, 0, 0, 0, 0, 0, 0, 2, 2, 2, 2, 2, 2, 2, 2, 2, 2, 2, 2, 2, 2,\n",
       "       2, 2, 2, 2, 2, 2, 2, 2, 2, 2, 2, 2, 2, 2, 2, 2, 2, 2, 2, 2, 2, 2,\n",
       "       2, 2, 2, 2, 2, 2, 2, 2, 2, 2, 2, 2, 2, 2, 2, 2, 2, 2, 2, 2, 2, 2,\n",
       "       2, 2, 2, 2, 2, 2, 2, 2, 2, 2, 2, 2, 2, 2, 2, 2, 2, 2, 2, 2, 2, 2,\n",
       "       2, 2, 2, 2, 2, 2, 2, 2, 2, 2, 2, 2, 2, 2, 2, 2, 2, 2, 2, 2, 2, 2,\n",
       "       2, 2, 2, 2, 2, 2, 2, 2, 2, 2, 2, 2, 2, 2, 2, 2, 2, 2, 2, 2, 2, 2,\n",
       "       2, 2, 2, 2, 2, 2, 2, 2, 2, 2, 2, 2, 2, 2, 2, 2, 2, 2, 2, 2, 2, 2,\n",
       "       2, 2, 2, 2, 2, 2, 2, 2, 2, 2, 2, 2, 2, 2, 2, 2, 2, 2, 2, 2, 2, 2,\n",
       "       2, 2, 2, 2, 2, 2, 3, 3, 3, 3, 3, 3, 3, 3, 3, 3, 3, 3, 3, 3, 3, 3,\n",
       "       3, 3, 3, 3, 3, 3, 3, 3, 3, 3, 3, 3, 3, 3, 3, 3, 3, 3, 3, 3, 3, 3,\n",
       "       3, 3, 3, 3, 3, 3, 3, 3, 3, 3, 3, 3, 3, 3, 3, 3, 3, 3, 3, 3, 3, 3,\n",
       "       3, 3, 3, 3, 3, 3, 3, 3, 3, 3, 3, 3, 3, 3, 3, 3, 3, 3, 3, 3, 3, 3,\n",
       "       1, 1, 1, 1, 1, 1, 1, 1, 1, 1, 1, 1, 1, 1, 1, 1, 1, 1, 1, 1, 1, 1,\n",
       "       1, 1, 1, 1, 1, 1, 1, 1, 1, 1, 1, 1, 1, 1, 1, 1, 1, 1, 1, 1, 1, 1,\n",
       "       1, 1, 1, 4, 4, 4, 4, 4, 4, 4, 4, 4, 4, 4, 4, 4, 4, 4, 4, 4, 4, 4,\n",
       "       4, 4, 4, 4, 4, 4, 4, 4, 4, 4, 4, 4, 4, 4, 4, 4, 4, 4, 4, 4, 4, 4,\n",
       "       4, 4, 4, 4, 4, 4, 4, 4, 4])"
      ]
     },
     "execution_count": 7,
     "metadata": {},
     "output_type": "execute_result"
    }
   ],
   "source": [
    "target_column"
   ]
  },
  {
   "cell_type": "markdown",
   "metadata": {},
   "source": [
    "Now lets split data with validation split equal to 30% from training data. Validation split is used to determine that our model is not geting over-fitted."
   ]
  },
  {
   "cell_type": "code",
   "execution_count": 8,
   "metadata": {},
   "outputs": [],
   "source": [
    "target_column_hotcoded = to_categorical(target_column,num_classes)\n",
    "X,Y = shuffle(img_data,target_column_hotcoded,random_state=2)\n",
    "X_train,X_temp,y_train,y_temp = train_test_split(X,Y,test_size=0.3,random_state=2)\n",
    "X_test,X_val,y_test,y_val = train_test_split(X_temp,y_temp,test_size=0.3,random_state=2)"
   ]
  },
  {
   "cell_type": "markdown",
   "metadata": {},
   "source": [
    "Create CNN Model to predict class label for eye disease"
   ]
  },
  {
   "cell_type": "code",
   "execution_count": 9,
   "metadata": {},
   "outputs": [
    {
     "name": "stdout",
     "output_type": "stream",
     "text": [
      "Model: \"sequential\"\n",
      "_________________________________________________________________\n",
      "Layer (type)                 Output Shape              Param #   \n",
      "=================================================================\n",
      "conv2d (Conv2D)              (None, 222, 222, 64)      1792      \n",
      "_________________________________________________________________\n",
      "conv2d_1 (Conv2D)            (None, 220, 220, 64)      36928     \n",
      "_________________________________________________________________\n",
      "max_pooling2d (MaxPooling2D) (None, 110, 110, 64)      0         \n",
      "_________________________________________________________________\n",
      "dropout (Dropout)            (None, 110, 110, 64)      0         \n",
      "_________________________________________________________________\n",
      "conv2d_2 (Conv2D)            (None, 108, 108, 128)     73856     \n",
      "_________________________________________________________________\n",
      "conv2d_3 (Conv2D)            (None, 106, 106, 128)     147584    \n",
      "_________________________________________________________________\n",
      "max_pooling2d_1 (MaxPooling2 (None, 53, 53, 128)       0         \n",
      "_________________________________________________________________\n",
      "dropout_1 (Dropout)          (None, 53, 53, 128)       0         \n",
      "_________________________________________________________________\n",
      "flatten (Flatten)            (None, 359552)            0         \n",
      "_________________________________________________________________\n",
      "dense (Dense)                (None, 128)               46022784  \n",
      "_________________________________________________________________\n",
      "dropout_2 (Dropout)          (None, 128)               0         \n",
      "_________________________________________________________________\n",
      "dense_1 (Dense)              (None, 5)                 645       \n",
      "=================================================================\n",
      "Total params: 46,283,589\n",
      "Trainable params: 46,283,589\n",
      "Non-trainable params: 0\n",
      "_________________________________________________________________\n"
     ]
    }
   ],
   "source": [
    "first_Mod = Sequential()\n",
    "\n",
    "first_Mod.add(Conv2D(64,(3,3),activation='relu',input_shape=input_shape))\n",
    "first_Mod.add(Conv2D(64,(3,3),activation='relu'))\n",
    "first_Mod.add(MaxPool2D(pool_size=(2,2)))\n",
    "first_Mod.add(Dropout(0.2))\n",
    "\n",
    "first_Mod.add(Conv2D(128,(3,3),activation='relu'))\n",
    "first_Mod.add(Conv2D(128,(3,3),activation='relu'))\n",
    "first_Mod.add(MaxPool2D(pool_size=(2,2)))\n",
    "first_Mod.add(Dropout(0.2))\n",
    "\n",
    "first_Mod.add(Flatten())\n",
    "first_Mod.add(Dense(128,activation='relu'))\n",
    "first_Mod.add(Dropout(0.2))\n",
    "first_Mod.add(Dense(num_classes,activation='softmax'))\n",
    "first_Mod.compile(loss='categorical_crossentropy',optimizer='adam',metrics=['accuracy'])\n",
    "\n",
    "first_Mod.summary()"
   ]
  },
  {
   "cell_type": "markdown",
   "metadata": {},
   "source": [
    "Now fit the data in the model and evaluate the model accuracy and Loss."
   ]
  },
  {
   "cell_type": "code",
   "execution_count": 10,
   "metadata": {},
   "outputs": [
    {
     "name": "stdout",
     "output_type": "stream",
     "text": [
      "Train on 268 samples, validate on 80 samples\n",
      "Epoch 1/50\n",
      "268/268 [==============================] - 6s 22ms/sample - loss: 6.1953 - accuracy: 0.2537 - val_loss: 1.5533 - val_accuracy: 0.1500\n",
      "Epoch 2/50\n",
      "268/268 [==============================] - 1s 4ms/sample - loss: 1.5300 - accuracy: 0.2201 - val_loss: 1.4949 - val_accuracy: 0.4375\n",
      "Epoch 3/50\n",
      "268/268 [==============================] - 1s 4ms/sample - loss: 1.4858 - accuracy: 0.3246 - val_loss: 1.5387 - val_accuracy: 0.4375\n",
      "Epoch 4/50\n",
      "268/268 [==============================] - 1s 4ms/sample - loss: 1.4932 - accuracy: 0.4254 - val_loss: 1.4241 - val_accuracy: 0.4375\n",
      "Epoch 5/50\n",
      "268/268 [==============================] - 1s 4ms/sample - loss: 1.4020 - accuracy: 0.4440 - val_loss: 1.4177 - val_accuracy: 0.4375\n",
      "Epoch 6/50\n",
      "268/268 [==============================] - 1s 4ms/sample - loss: 1.4286 - accuracy: 0.3993 - val_loss: 1.4174 - val_accuracy: 0.4375\n",
      "Epoch 7/50\n",
      "268/268 [==============================] - 1s 4ms/sample - loss: 1.4100 - accuracy: 0.4515 - val_loss: 1.3981 - val_accuracy: 0.4375\n",
      "Epoch 8/50\n",
      "268/268 [==============================] - 1s 4ms/sample - loss: 1.3918 - accuracy: 0.4701 - val_loss: 1.4008 - val_accuracy: 0.4375\n",
      "Epoch 9/50\n",
      "268/268 [==============================] - 1s 4ms/sample - loss: 1.3898 - accuracy: 0.4590 - val_loss: 1.4088 - val_accuracy: 0.4375\n",
      "Epoch 10/50\n",
      "268/268 [==============================] - 1s 5ms/sample - loss: 1.3804 - accuracy: 0.4627 - val_loss: 1.3995 - val_accuracy: 0.4375\n",
      "Epoch 11/50\n",
      "268/268 [==============================] - 1s 5ms/sample - loss: 1.4261 - accuracy: 0.4515 - val_loss: 1.3945 - val_accuracy: 0.4375\n",
      "Epoch 12/50\n",
      "268/268 [==============================] - 1s 4ms/sample - loss: 1.3433 - accuracy: 0.4552 - val_loss: 1.3820 - val_accuracy: 0.4375\n",
      "Epoch 13/50\n",
      "268/268 [==============================] - 1s 4ms/sample - loss: 1.3369 - accuracy: 0.4701 - val_loss: 1.3818 - val_accuracy: 0.4375\n",
      "Epoch 14/50\n",
      "268/268 [==============================] - 1s 4ms/sample - loss: 1.3479 - accuracy: 0.4254 - val_loss: 1.3828 - val_accuracy: 0.4250\n",
      "Epoch 15/50\n",
      "268/268 [==============================] - 1s 4ms/sample - loss: 1.2775 - accuracy: 0.4552 - val_loss: 1.3647 - val_accuracy: 0.4250\n",
      "Epoch 16/50\n",
      "268/268 [==============================] - 1s 4ms/sample - loss: 1.2722 - accuracy: 0.4739 - val_loss: 1.3549 - val_accuracy: 0.4000\n",
      "Epoch 17/50\n",
      "268/268 [==============================] - 1s 4ms/sample - loss: 1.2770 - accuracy: 0.4851 - val_loss: 1.3736 - val_accuracy: 0.4500\n",
      "Epoch 18/50\n",
      "268/268 [==============================] - 1s 4ms/sample - loss: 1.3130 - accuracy: 0.4440 - val_loss: 1.4581 - val_accuracy: 0.4375\n",
      "Epoch 19/50\n",
      "268/268 [==============================] - 1s 4ms/sample - loss: 1.2050 - accuracy: 0.4888 - val_loss: 1.3285 - val_accuracy: 0.4625\n",
      "Epoch 20/50\n",
      "268/268 [==============================] - 1s 5ms/sample - loss: 1.1590 - accuracy: 0.4515 - val_loss: 1.4998 - val_accuracy: 0.4750\n",
      "Epoch 21/50\n",
      "268/268 [==============================] - 1s 4ms/sample - loss: 1.0808 - accuracy: 0.5224 - val_loss: 1.6908 - val_accuracy: 0.4250\n",
      "Epoch 22/50\n",
      "268/268 [==============================] - 1s 4ms/sample - loss: 1.0095 - accuracy: 0.5597 - val_loss: 1.8589 - val_accuracy: 0.4250\n",
      "Epoch 23/50\n",
      "268/268 [==============================] - 1s 4ms/sample - loss: 0.8709 - accuracy: 0.5709 - val_loss: 1.9024 - val_accuracy: 0.4000\n",
      "Epoch 24/50\n",
      "268/268 [==============================] - 1s 4ms/sample - loss: 0.7456 - accuracy: 0.6493 - val_loss: 2.0424 - val_accuracy: 0.4375\n",
      "Epoch 25/50\n",
      "268/268 [==============================] - 1s 4ms/sample - loss: 0.8427 - accuracy: 0.6604 - val_loss: 2.0637 - val_accuracy: 0.4125\n",
      "Epoch 26/50\n",
      "268/268 [==============================] - 1s 4ms/sample - loss: 0.7471 - accuracy: 0.6940 - val_loss: 2.2941 - val_accuracy: 0.3875\n",
      "Epoch 27/50\n",
      "268/268 [==============================] - 1s 4ms/sample - loss: 0.5341 - accuracy: 0.7612 - val_loss: 2.5365 - val_accuracy: 0.5000\n",
      "Epoch 28/50\n",
      "268/268 [==============================] - 1s 4ms/sample - loss: 0.5384 - accuracy: 0.7761 - val_loss: 2.3600 - val_accuracy: 0.3750\n",
      "Epoch 29/50\n",
      "268/268 [==============================] - 1s 4ms/sample - loss: 0.4929 - accuracy: 0.8134 - val_loss: 2.8072 - val_accuracy: 0.4375\n",
      "Epoch 30/50\n",
      "268/268 [==============================] - 1s 4ms/sample - loss: 0.4824 - accuracy: 0.8097 - val_loss: 3.0455 - val_accuracy: 0.4250\n",
      "Epoch 31/50\n",
      "268/268 [==============================] - 1s 4ms/sample - loss: 0.4592 - accuracy: 0.7985 - val_loss: 3.1569 - val_accuracy: 0.4000\n",
      "Epoch 32/50\n",
      "268/268 [==============================] - 1s 4ms/sample - loss: 0.4399 - accuracy: 0.8433 - val_loss: 2.9694 - val_accuracy: 0.4375\n",
      "Epoch 33/50\n",
      "268/268 [==============================] - 1s 4ms/sample - loss: 0.3565 - accuracy: 0.8433 - val_loss: 3.9306 - val_accuracy: 0.4000\n",
      "Epoch 34/50\n",
      "268/268 [==============================] - 1s 5ms/sample - loss: 0.3783 - accuracy: 0.8582 - val_loss: 2.8573 - val_accuracy: 0.4125\n",
      "Epoch 35/50\n",
      "268/268 [==============================] - 1s 4ms/sample - loss: 0.3552 - accuracy: 0.8769 - val_loss: 4.2925 - val_accuracy: 0.3875\n",
      "Epoch 36/50\n",
      "268/268 [==============================] - 1s 4ms/sample - loss: 0.3247 - accuracy: 0.8694 - val_loss: 3.5769 - val_accuracy: 0.4250\n",
      "Epoch 37/50\n",
      "268/268 [==============================] - 1s 4ms/sample - loss: 0.3029 - accuracy: 0.8769 - val_loss: 4.1257 - val_accuracy: 0.4500\n",
      "Epoch 38/50\n",
      "268/268 [==============================] - 1s 4ms/sample - loss: 0.2870 - accuracy: 0.8918 - val_loss: 3.9570 - val_accuracy: 0.4000\n",
      "Epoch 39/50\n",
      "268/268 [==============================] - 1s 4ms/sample - loss: 0.3310 - accuracy: 0.8694 - val_loss: 3.9585 - val_accuracy: 0.4125\n",
      "Epoch 40/50\n",
      "268/268 [==============================] - 1s 4ms/sample - loss: 0.3213 - accuracy: 0.8769 - val_loss: 5.0357 - val_accuracy: 0.4375\n",
      "Epoch 41/50\n",
      "268/268 [==============================] - 1s 4ms/sample - loss: 0.3199 - accuracy: 0.8806 - val_loss: 5.1770 - val_accuracy: 0.4375\n",
      "Epoch 42/50\n",
      "268/268 [==============================] - 1s 4ms/sample - loss: 0.2886 - accuracy: 0.8955 - val_loss: 5.6002 - val_accuracy: 0.4250\n",
      "Epoch 43/50\n",
      "268/268 [==============================] - 1s 4ms/sample - loss: 0.2713 - accuracy: 0.9030 - val_loss: 3.2667 - val_accuracy: 0.4500\n",
      "Epoch 44/50\n",
      "268/268 [==============================] - 1s 4ms/sample - loss: 0.2528 - accuracy: 0.9142 - val_loss: 5.0502 - val_accuracy: 0.4500\n",
      "Epoch 45/50\n",
      "268/268 [==============================] - 1s 4ms/sample - loss: 0.1851 - accuracy: 0.9291 - val_loss: 3.7052 - val_accuracy: 0.4125\n",
      "Epoch 46/50\n",
      "268/268 [==============================] - 1s 4ms/sample - loss: 0.2624 - accuracy: 0.8881 - val_loss: 4.4379 - val_accuracy: 0.4750\n",
      "Epoch 47/50\n",
      "268/268 [==============================] - 1s 5ms/sample - loss: 0.1570 - accuracy: 0.9291 - val_loss: 7.1056 - val_accuracy: 0.4125\n",
      "Epoch 48/50\n",
      "268/268 [==============================] - 1s 5ms/sample - loss: 0.2274 - accuracy: 0.9104 - val_loss: 4.2712 - val_accuracy: 0.4375\n",
      "Epoch 49/50\n",
      "268/268 [==============================] - 1s 4ms/sample - loss: 0.2642 - accuracy: 0.8881 - val_loss: 5.1234 - val_accuracy: 0.4000\n",
      "Epoch 50/50\n",
      "268/268 [==============================] - 1s 4ms/sample - loss: 0.2482 - accuracy: 0.9067 - val_loss: 5.2335 - val_accuracy: 0.4375\n",
      "80/80 [==============================] - 0s 1ms/sample - loss: 5.2335 - accuracy: 0.4375\n",
      "Test Loss 5.2335045337677\n",
      "Test Accuracy 0.4375\n"
     ]
    }
   ],
   "source": [
    "hist = first_Mod.fit(X_train,y_train,batch_size=batch_size,epochs=num_epoch,verbose=1,validation_data=(X_test,y_test))\n",
    "score = first_Mod.evaluate(X_test,y_test,batch_size=batch_size)\n",
    "print('Test Loss',score[0])\n",
    "print(\"Test Accuracy\",score[1])"
   ]
  },
  {
   "cell_type": "code",
   "execution_count": null,
   "metadata": {},
   "outputs": [],
   "source": []
  },
  {
   "cell_type": "code",
   "execution_count": null,
   "metadata": {},
   "outputs": [],
   "source": []
  },
  {
   "cell_type": "code",
   "execution_count": null,
   "metadata": {},
   "outputs": [],
   "source": []
  }
 ],
 "metadata": {
  "kernelspec": {
   "display_name": "Python 3",
   "language": "python",
   "name": "python3"
  },
  "language_info": {
   "codemirror_mode": {
    "name": "ipython",
    "version": 3
   },
   "file_extension": ".py",
   "mimetype": "text/x-python",
   "name": "python",
   "nbconvert_exporter": "python",
   "pygments_lexer": "ipython3",
   "version": "3.6.6"
  }
 },
 "nbformat": 4,
 "nbformat_minor": 4
}
